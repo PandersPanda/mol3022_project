{
 "cells": [
  {
   "cell_type": "code",
   "execution_count": 1,
   "metadata": {},
   "outputs": [],
   "source": [
    "import pandas as pd\n",
    "import numpy as np\n",
    "from keras.models import Sequential\n",
    "from keras.layers import Dense, Dropout, LSTM, Bidirectional"
   ]
  },
  {
   "cell_type": "code",
   "execution_count": 2,
   "metadata": {},
   "outputs": [
    {
     "name": "stdout",
     "output_type": "stream",
     "text": [
      "0    [[0.0, 0.0, 0.0, 1.0, 0.0, 0.0, 0.0, 0.0, 0.0,...\n",
      "1    [[0.0, 0.0, 0.0, 0.0, 0.0, 0.0, 0.0, 0.0, 1.0,...\n",
      "2    [[0.0, 0.0, 0.0, 0.0, 0.0, 0.0, 0.0, 0.0, 1.0,...\n",
      "3    [[0.0, 0.0, 0.0, 0.0, 0.0, 0.0, 0.0, 0.0, 1.0,...\n",
      "4    [[0.0, 0.0, 0.0, 0.0, 0.0, 0.0, 0.0, 0.0, 1.0,...\n",
      "5    [[0.0, 0.0, 0.0, 0.0, 0.0, 0.0, 0.0, 0.0, 1.0,...\n",
      "6    [[0.0, 0.0, 0.0, 0.0, 0.0, 0.0, 0.0, 0.0, 1.0,...\n",
      "7    [[0.0, 0.0, 0.0, 0.0, 0.0, 0.0, 0.0, 0.0, 1.0,...\n",
      "8    [[0.0, 0.0, 0.0, 0.0, 0.0, 0.0, 0.0, 0.0, 1.0,...\n",
      "9    [[0.0, 0.0, 0.0, 0.0, 0.0, 0.0, 0.0, 0.0, 1.0,...\n",
      "Name: seq, dtype: object\n",
      "0    [[0.0, 1.0, 0.0, 0.0, 0.0, 0.0, 0.0, 0.0, 0.0,...\n",
      "1    [[0.0, 1.0, 0.0, 0.0, 0.0, 0.0, 0.0, 0.0, 0.0,...\n",
      "2    [[0.0, 1.0, 0.0, 0.0, 0.0, 0.0, 0.0, 0.0, 0.0,...\n",
      "3    [[0.0, 1.0, 0.0, 0.0, 0.0, 0.0, 0.0, 0.0, 0.0,...\n",
      "4    [[0.0, 1.0, 0.0, 0.0, 0.0, 0.0, 0.0, 0.0, 0.0,...\n",
      "5    [[0.0, 1.0, 0.0, 0.0, 0.0, 0.0, 0.0, 0.0, 0.0,...\n",
      "6    [[0.0, 1.0, 0.0, 0.0, 0.0, 0.0, 0.0, 0.0, 0.0,...\n",
      "7    [[0.0, 1.0, 0.0, 0.0, 0.0, 0.0, 0.0, 0.0, 0.0,...\n",
      "8    [[0.0, 1.0, 0.0, 0.0, 0.0, 0.0, 0.0, 0.0, 0.0,...\n",
      "9    [[0.0, 1.0, 0.0, 0.0, 0.0, 0.0, 0.0, 0.0, 0.0,...\n",
      "Name: sst3, dtype: object\n"
     ]
    }
   ],
   "source": [
    "data = pd.read_csv('./Data/2018-06-06-ss.cleaned.csv')\n",
    "\n",
    "# Convert protein structures to one-hot encoded matrices\n",
    "def one_hot_encode(protein):\n",
    "    amino_acids = 'ACDEFGHIKLMNPQRSTVWY'\n",
    "    one_hot = np.zeros((len(protein), len(amino_acids)))\n",
    "    for i, aa in enumerate(protein):\n",
    "        if aa in amino_acids:\n",
    "            one_hot[i, amino_acids.index(aa)] = 1\n",
    "    return one_hot\n",
    "\n",
    "sequences = data.iloc[:,2].apply(one_hot_encode)\n",
    "structures = data.iloc[:,4].apply(one_hot_encode)\n",
    "\n",
    "# print the first 10 sequences\n",
    "print(sequences[:10])\n",
    "print(structures[:10])"
   ]
  },
  {
   "cell_type": "code",
   "execution_count": null,
   "metadata": {},
   "outputs": [],
   "source": [
    "#Longest sequence is 5037\n",
    "max_length = 5037\n",
    "#Pad sequences with zeros\n",
    "padded_sequences = sequences.apply(lambda x: np.pad(x, ((0, max_length - len(x)), (0, 0)), mode='constant'))\n",
    "\n",
    "#Convert into 3D vector\n",
    "X = np.stack(padded_sequences.values)\n",
    "\n",
    "#Convert secondary structure into categorical labels\n",
    "Y = pd.get_dummies(structures)"
   ]
  },
  {
   "cell_type": "code",
   "execution_count": null,
   "metadata": {},
   "outputs": [],
   "source": []
  },
  {
   "cell_type": "code",
   "execution_count": null,
   "metadata": {},
   "outputs": [],
   "source": []
  }
 ],
 "metadata": {
  "kernelspec": {
   "display_name": "Python 3",
   "language": "python",
   "name": "python3"
  },
  "language_info": {
   "codemirror_mode": {
    "name": "ipython",
    "version": 3
   },
   "file_extension": ".py",
   "mimetype": "text/x-python",
   "name": "python",
   "nbconvert_exporter": "python",
   "pygments_lexer": "ipython3",
   "version": "3.9.13"
  },
  "orig_nbformat": 4,
  "vscode": {
   "interpreter": {
    "hash": "2e5e3ea4631e9d9d7acdd296c3802e1fa3f8d5be3021336b35a8944b5c5cae81"
   }
  }
 },
 "nbformat": 4,
 "nbformat_minor": 2
}
