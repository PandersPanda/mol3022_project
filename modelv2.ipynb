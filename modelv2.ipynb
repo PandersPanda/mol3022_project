{
 "cells": [
  {
   "cell_type": "code",
   "execution_count": null,
   "metadata": {},
   "outputs": [],
   "source": [
    "#Code inspired by https://www.kaggle.com/code/helmehelmuto/secondary-structure-prediction-with-keras\n",
    "import pandas as pd\n",
    "import numpy as np\n",
    "from keras.models import Sequential\n",
    "from keras.layers import *\n",
    "from keras.utils import  to_categorical\n",
    "from keras.preprocessing.text import Tokenizer\n",
    "from keras.preprocessing import text, sequence\n",
    "from tensorflow.keras.preprocessing.sequence import pad_sequences\n",
    "from sklearn.preprocessing import LabelEncoder\n",
    "from sklearn.model_selection import train_test_split"
   ]
  },
  {
   "cell_type": "code",
   "execution_count": null,
   "metadata": {},
   "outputs": [],
   "source": [
    "#Load the data\n",
    "data = pd.read_csv('./Data/2018-06-06-ss.cleaned.csv')\n",
    "data.len.hist(bins=100)\n",
    "max_length = 128\n",
    "print(data.shape)\n",
    "\n",
    "#Remove sequences that are too long and sequences that contain non-standard amino acids\n",
    "sequences, structures = data[['seq', 'sst3']][(data.len <= max_length) & (~data.has_nonstd_aa)].values.T \n",
    "\n",
    "#For saving memory\n",
    "data = []\n",
    "\n",
    "#Making the sequences into grams, because this makes it easier for the model to learn\n",
    "def seq2ngrams(seqs, n=3):\n",
    "    return np.array([[seq[i:i+n] for i in range(len(seq))] for seq in seqs])\n",
    "\n",
    "sequences = seq2ngrams(sequences)\n"
   ]
  },
  {
   "cell_type": "code",
   "execution_count": null,
   "metadata": {},
   "outputs": [],
   "source": [
    "#Preprocess the data\n",
    "\n",
    "#Encode the sequences with padding\n",
    "tokenizer_seq = Tokenizer()\n",
    "tokenizer_seq.fit_on_texts(sequences)\n",
    "sequences = tokenizer_seq.texts_to_sequences(sequences)\n",
    "sequences = pad_sequences(sequences, maxlen=max_length, padding='post')\n",
    "\n",
    "print(sequences[1])\n",
    "\n",
    "#sequence back to its string value\n",
    "print(tokenizer_seq.sequences_to_texts(sequences[1:2])[0])\n",
    "\n",
    "#Encode the structures, and categorize them\n",
    "tokenizer_struc = Tokenizer(char_level=True)\n",
    "tokenizer_struc.fit_on_texts(structures)\n",
    "structures = tokenizer_struc.texts_to_sequences(structures)\n",
    "structures = pad_sequences(structures, maxlen=max_length, padding='post')\n",
    "structures = to_categorical(structures)\n",
    "\n",
    "print(structures[1])\n",
    "\n",
    "structures.shape, sequences.shape"
   ]
  },
  {
   "cell_type": "code",
   "execution_count": 6,
   "metadata": {},
   "outputs": [
    {
     "name": "stdout",
     "output_type": "stream",
     "text": [
      "Epoch 1/10\n",
      "555/555 [==============================] - 11s 18ms/step - loss: 1.1356 - accuracy: 0.4981 - val_loss: 1.1147 - val_accuracy: 0.5078\n",
      "Epoch 2/10\n",
      "555/555 [==============================] - 9s 17ms/step - loss: 0.9083 - accuracy: 0.5872 - val_loss: 0.8655 - val_accuracy: 0.6065\n",
      "Epoch 3/10\n",
      "555/555 [==============================] - 9s 17ms/step - loss: 0.7067 - accuracy: 0.6618 - val_loss: 0.7648 - val_accuracy: 0.6714\n",
      "Epoch 4/10\n",
      "555/555 [==============================] - 9s 16ms/step - loss: 0.5940 - accuracy: 0.7100 - val_loss: 0.7492 - val_accuracy: 0.6933\n",
      "Epoch 5/10\n",
      "555/555 [==============================] - 9s 17ms/step - loss: 0.5426 - accuracy: 0.7337 - val_loss: 0.7641 - val_accuracy: 0.7035\n",
      "Epoch 6/10\n",
      "555/555 [==============================] - 9s 16ms/step - loss: 0.5025 - accuracy: 0.7527 - val_loss: 0.7610 - val_accuracy: 0.7191\n",
      "Epoch 7/10\n",
      "555/555 [==============================] - 9s 16ms/step - loss: 0.4765 - accuracy: 0.7673 - val_loss: 0.7359 - val_accuracy: 0.7329\n",
      "Epoch 8/10\n",
      "555/555 [==============================] - 9s 17ms/step - loss: 0.4480 - accuracy: 0.7826 - val_loss: 0.7353 - val_accuracy: 0.7428\n",
      "Epoch 9/10\n",
      "555/555 [==============================] - 9s 17ms/step - loss: 0.4261 - accuracy: 0.7945 - val_loss: 0.7294 - val_accuracy: 0.7549\n",
      "Epoch 10/10\n",
      "555/555 [==============================] - 9s 17ms/step - loss: 0.4082 - accuracy: 0.8048 - val_loss: 0.7067 - val_accuracy: 0.7614\n"
     ]
    }
   ],
   "source": [
    "word_amount = len(tokenizer_seq.word_index) + 1\n",
    "tag_amount = len(tokenizer_struc.word_index) + 1\n",
    "\n",
    "# define the model\n",
    "model = Sequential()\n",
    "model.add(Embedding(word_amount, 128, input_length=max_length))\n",
    "model.add(Bidirectional(LSTM(128, return_sequences=True)))\n",
    "model.add(TimeDistributed(Dense(tag_amount, activation='softmax')))\n",
    "\n",
    "model.compile(loss='categorical_crossentropy', optimizer='adam', metrics=['accuracy'])\n",
    "\n",
    "# split the data into train and test\n",
    "X_train, X_test, y_train, y_test = train_test_split(sequences, structures, test_size=0.2, random_state=42)\n",
    "\n",
    "# train the model\n",
    "model.fit(X_train, y_train, batch_size=128, epochs=10, validation_data=(X_test, y_test), verbose=1)\n",
    "model.save('modelv2.h5')"
   ]
  },
  {
   "cell_type": "code",
   "execution_count": null,
   "metadata": {},
   "outputs": [],
   "source": [
    "#Finding the amount of words and tags, so we can use it in the model, with the correct dimensions\n",
    "\"\"\"\n",
    "\n",
    "word_amount = len(tokenizer_seq.word_index) + 1\n",
    "tag_amount = len(tokenizer_struc.word_index) + 1\n",
    "\n",
    "# Define the model architecture\n",
    "model = Sequential()\n",
    "model.add(Embedding(input_dim = word_amount, output_dim= 128, input_length=max_length))\n",
    "model.add(Bidirectional(LSTM(units=64, dropout=0.2, recurrent_dropout=0.2, return_sequences=True)))\n",
    "model.add(Bidirectional(LSTM(units=64, dropout=0.2, recurrent_dropout=0.2, return_sequences=True)))\n",
    "model.add(Dense(tag_amount, activation='softmax'))\n",
    "model.summary()\n",
    "\n",
    "# Compile the model\n",
    "model.compile(loss='categorical_crossentropy', optimizer='adam', metrics=['accuracy'])\n",
    "\n",
    "# Split the data into training and testing sets\n",
    "X_train, X_test, y_train, y_test = train_test_split(sequences, structures, test_size=0.3, random_state=42)\n",
    "\n",
    "# Train and save the model\n",
    "model.fit(X_train, y_train, batch_size=128, epochs=10, validation_data=(X_test, y_test), verbose=1)\n",
    "model.save(\"protein_model2.h5\")\n",
    "\"\"\""
   ]
  },
  {
   "cell_type": "code",
   "execution_count": null,
   "metadata": {},
   "outputs": [],
   "source": [
    "model = model.load_model('protein_model2.h5')"
   ]
  },
  {
   "cell_type": "code",
   "execution_count": null,
   "metadata": {},
   "outputs": [],
   "source": []
  }
 ],
 "metadata": {
  "kernelspec": {
   "display_name": "ai",
   "language": "python",
   "name": "python3"
  },
  "language_info": {
   "codemirror_mode": {
    "name": "ipython",
    "version": 3
   },
   "file_extension": ".py",
   "mimetype": "text/x-python",
   "name": "python",
   "nbconvert_exporter": "python",
   "pygments_lexer": "ipython3",
   "version": "3.9.16"
  },
  "orig_nbformat": 4,
  "vscode": {
   "interpreter": {
    "hash": "4fbd59b18aba8f52af8a3f19878e59a3acb395bb407ef1dc910bfc23ec357d56"
   }
  }
 },
 "nbformat": 4,
 "nbformat_minor": 2
}
