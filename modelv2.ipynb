{
 "cells": [
  {
   "cell_type": "code",
   "execution_count": 2,
   "metadata": {},
   "outputs": [],
   "source": [
    "import pandas as pd\n",
    "import numpy as np\n",
    "from keras.models import Sequential\n",
    "from keras.layers import Dense, Dropout, LSTM, Bidirectional, Embedding, SpatialDropout1D\n",
    "from keras.utils import  to_categorical\n",
    "from tensorflow.keras.preprocessing.sequence import pad_sequences\n",
    "from sklearn.preprocessing import LabelEncoder"
   ]
  },
  {
   "cell_type": "code",
   "execution_count": 3,
   "metadata": {},
   "outputs": [],
   "source": [
    "data = pd.read_csv('./Data/2018-06-06-ss.cleaned.csv')\n",
    "data = data.iloc[:20000]\n",
    "\n",
    "sequences = data.iloc[:,2]\n",
    "structures = data.iloc[:,4]\n",
    "data = []\n"
   ]
  },
  {
   "cell_type": "code",
   "execution_count": 4,
   "metadata": {},
   "outputs": [
    {
     "name": "stdout",
     "output_type": "stream",
     "text": [
      "[[ 6.  5. 12. ...  2.  2.  2.]\n",
      " [11.  4. 11. ...  2.  2.  2.]\n",
      " [11.  3. 11. ...  2.  2.  2.]]\n"
     ]
    }
   ],
   "source": [
    "\n",
    "#structures = structures_to_int(structures)\n",
    "label_encoder = LabelEncoder()\n",
    "label_encoder.fit(structures)\n",
    "labels = label_encoder.transform(structures)\n",
    "\n",
    "# Pad sequences with zeros, and make X a 3D vector\n",
    "max_length = 3000\n",
    "X = []\n",
    "for i in range (len(sequences)):\n",
    "    sequences[i] = sequences[i].ljust(max_length, '0')\n",
    "    X.append(list(sequences[i]))\n",
    "\n",
    "X = np.array(X)\n",
    "#print(X[:1])\n",
    "\n",
    "# Convert X to integer-encoded data\n",
    "char_set = sorted(set(''.join(sequences)))\n",
    "char_to_int = dict((c, i+1) for i, c in enumerate(char_set))\n",
    "X_int = []\n",
    "for i in range(len(X)):\n",
    "    seq_int = [char_to_int[char] for char in X[i]]\n",
    "    X_int.append(seq_int)\n",
    "X_int = np.array(X_int)\n",
    "\n",
    "# Convert X_int to float and normalize the values\n",
    "X_float = X_int.astype(float)\n",
    "\n",
    "# Convert integer labels to categorical labels\n",
    "Y = to_categorical(labels)\n",
    "\n",
    "print(X_float[:3])"
   ]
  },
  {
   "cell_type": "code",
   "execution_count": 6,
   "metadata": {},
   "outputs": [
    {
     "name": "stdout",
     "output_type": "stream",
     "text": [
      "Epoch 1/10\n",
      " 67/125 [===============>..............] - ETA: 22:42 - loss: 7.3680 - accuracy: 0.0389"
     ]
    }
   ],
   "source": [
    "# Define the model architecture\n",
    "model = Sequential()\n",
    "model.add(Embedding(input_dim = max_length+1, output_dim= 128, input_length=max_length))\n",
    "model.add(SpatialDropout1D(0.2))\n",
    "model.add(LSTM(256, dropout=0.2, recurrent_dropout=0.2))\n",
    "model.add(Dense(256, activation='relu'))\n",
    "model.add(Dropout(0.2))\n",
    "model.add(Dense(Y.shape[1], activation='softmax'))\n",
    "\n",
    "# Compile the model\n",
    "model.compile(loss='categorical_crossentropy', optimizer='adam', metrics=['accuracy'])\n",
    "\n",
    "# Train the model\n",
    "model.fit(X_float, Y, batch_size=128, epochs=10, validation_split=0.2)"
   ]
  },
  {
   "cell_type": "code",
   "execution_count": null,
   "metadata": {},
   "outputs": [],
   "source": []
  }
 ],
 "metadata": {
  "kernelspec": {
   "display_name": "Python 3",
   "language": "python",
   "name": "python3"
  },
  "language_info": {
   "codemirror_mode": {
    "name": "ipython",
    "version": 3
   },
   "file_extension": ".py",
   "mimetype": "text/x-python",
   "name": "python",
   "nbconvert_exporter": "python",
   "pygments_lexer": "ipython3",
   "version": "3.9.13"
  },
  "orig_nbformat": 4,
  "vscode": {
   "interpreter": {
    "hash": "2e5e3ea4631e9d9d7acdd296c3802e1fa3f8d5be3021336b35a8944b5c5cae81"
   }
  }
 },
 "nbformat": 4,
 "nbformat_minor": 2
}
